{
 "cells": [
  {
   "cell_type": "markdown",
   "id": "ae063c53-34d8-4ade-b067-d83f25bc3fa8",
   "metadata": {},
   "source": [
    "\n",
    "# Introduction to Pandas\n",
    "<span style=\"font-size:18px; font-weight:bold;\">\n",
    "\n",
    "Welcome! In this section, we’ll explore Pandas, the most popular Python library for working with structured (tabular) data. Think of it as a Python-powered spreadsheet — but far more powerful, faster, and flexible. It's built on top of NumPy and is essential for data analysis, machine learning, and data wrangling.\n",
    "\n",
    "**Recommended Learning Flow**\n",
    "\n",
    "To get the most out of Pandas, follow these topics in order:\n",
    "\n",
    "1. Series\n",
    "2. DataFrames  \n",
    "3. Missing Data\n",
    "4. GroupBy\n",
    "5. Merging, Joining, and Concatenating\n",
    "6. Operations\n",
    "7. Data Input and Output\n",
    "\n",
    "---\n",
    "<span>\n",
    "\n"
   ]
  },
  {
   "cell_type": "markdown",
   "id": "c1209bd0-388c-49b5-a88e-9892d69d988e",
   "metadata": {},
   "source": [
    "# Series: The Building Block of Pandas\n",
    "\n",
    "## What is a Series?\n",
    "<span style=\"font-size:18px; font-weight:bold;\">\n",
    "\n",
    "A Series is a one-dimensional array-like object with labeled indices. It's like a NumPy array but with added powers — you can assign custom labels to each value.\n",
    "\n",
    "- Can hold any data type (int, float, string, Python objects)\n",
    "\n",
    "- Each value is indexed, and indexes can be labeled\n",
    "\n",
    "- Very similar to a dictionary"
   ]
  },
  {
   "cell_type": "markdown",
   "id": "bf48302b-387f-4eda-a81d-77f056292259",
   "metadata": {},
   "source": [
    "<span style=\"font-size:18px; font-weight:bold;\">\n",
    "\n",
    "**Setup**\n",
    "<span>"
   ]
  },
  {
   "cell_type": "code",
   "execution_count": 378,
   "id": "f1abf7f8-7904-4ebf-b789-3e404b4a80fb",
   "metadata": {},
   "outputs": [],
   "source": [
    "import numpy as np\n",
    "import pandas as pd"
   ]
  },
  {
   "cell_type": "markdown",
   "id": "8e516c22-3172-46af-a750-8aec31f7cca2",
   "metadata": {},
   "source": [
    "<span style=\"font-size:18px; font-weight:bold;\">\n",
    "\n",
    "## Creating a Series\n",
    "\n",
    "You can create a Series from:\n",
    "\n",
    "- Lists\n",
    "\n",
    "- NumPy arrays\n",
    "\n",
    "- Dictionaries\n",
    "\n"
   ]
  },
  {
   "cell_type": "markdown",
   "id": "364dce05-4f8c-4560-81f6-f4176dc5c433",
   "metadata": {},
   "source": [
    "### From a List"
   ]
  },
  {
   "cell_type": "code",
   "execution_count": 382,
   "id": "36e3fba3-1a75-4287-ae60-39974fd1d6eb",
   "metadata": {},
   "outputs": [
    {
     "data": {
      "text/plain": [
       "a    10\n",
       "b    20\n",
       "c    30\n",
       "dtype: int64"
      ]
     },
     "execution_count": 382,
     "metadata": {},
     "output_type": "execute_result"
    }
   ],
   "source": [
    "labels = ['a', 'b', 'c']\n",
    "my_list = [10, 20, 30]\n",
    "\n",
    "pd.Series(my_list)\n",
    "pd.Series(my_list, index=labels)"
   ]
  },
  {
   "cell_type": "markdown",
   "id": "5ea3aa6c-f4bb-43c4-99c5-7f718a6e0bf5",
   "metadata": {},
   "source": [
    "<span style=\"font-size:18px; font-weight:bold;\">\n",
    "\n",
    " **Tip: If you don’t provide an index, Pandas will assign default numeric indices starting from 0.**"
   ]
  },
  {
   "cell_type": "markdown",
   "id": "993d413f-32ef-453a-98c1-6fe4237e8bb4",
   "metadata": {},
   "source": [
    "### From a NumPy array"
   ]
  },
  {
   "cell_type": "code",
   "execution_count": 386,
   "id": "1b86317c-b705-48c4-b781-140ad8239a22",
   "metadata": {},
   "outputs": [
    {
     "data": {
      "text/plain": [
       "x    10\n",
       "y    20\n",
       "z    30\n",
       "dtype: int64"
      ]
     },
     "execution_count": 386,
     "metadata": {},
     "output_type": "execute_result"
    }
   ],
   "source": [
    "arr = np.array([10, 20, 30])\n",
    "\n",
    "pd.Series(arr)\n",
    "pd.Series(arr, index=['x', 'y', 'z'])\n"
   ]
  },
  {
   "cell_type": "markdown",
   "id": "84b4171c-0ef4-4ee3-b851-958cc17756a8",
   "metadata": {},
   "source": [
    "<span style=\"font-size:18px; font-weight:bold;\">\n",
    "\n",
    "**Use case: NumPy users will find this familiar — but Series adds label-based indexing on top.**"
   ]
  },
  {
   "cell_type": "markdown",
   "id": "05abe332-7e13-4029-91c1-a3069677727e",
   "metadata": {},
   "source": [
    "### From a dictionary"
   ]
  },
  {
   "cell_type": "code",
   "execution_count": 390,
   "id": "c17bc68a-5166-4fc5-b602-eb0a62a16cb6",
   "metadata": {},
   "outputs": [
    {
     "data": {
      "text/plain": [
       "a    10\n",
       "b    20\n",
       "c    30\n",
       "dtype: int64"
      ]
     },
     "execution_count": 390,
     "metadata": {},
     "output_type": "execute_result"
    }
   ],
   "source": [
    "d = {'a': 10, 'b': 20, 'c': 30}\n",
    "pd.Series(d)"
   ]
  },
  {
   "cell_type": "markdown",
   "id": "df40aca1-9a94-4554-9561-6999d6bb94b1",
   "metadata": {},
   "source": [
    "**Why it's useful: The dictionary keys become index labels. This is great for structured data with named values.**"
   ]
  },
  {
   "cell_type": "markdown",
   "id": "6b6b280e-71c5-4edc-a564-c602645ba56b",
   "metadata": {},
   "source": [
    "<span style=\"font-size:18px; font-weight:bold;\">\n",
    "\n",
    "## What Can a Series Hold?\n",
    "**Unlike NumPy arrays, a Series can contain heterogeneous data types:**"
   ]
  },
  {
   "cell_type": "code",
   "execution_count": 394,
   "id": "b03d01f1-e426-492e-bbaa-16b130a604ab",
   "metadata": {},
   "outputs": [
    {
     "data": {
      "text/plain": [
       "0             Hello\n",
       "1                42\n",
       "2              3.14\n",
       "3            [1, 2]\n",
       "4    {'key': 'val'}\n",
       "dtype: object"
      ]
     },
     "execution_count": 394,
     "metadata": {},
     "output_type": "execute_result"
    }
   ],
   "source": [
    "pd.Series(['Hello', 42, 3.14, [1,2], {'key': 'val'}])"
   ]
  },
  {
   "cell_type": "code",
   "execution_count": 396,
   "id": "58cbd118-8f56-478c-ad74-2da0383d3edd",
   "metadata": {},
   "outputs": [
    {
     "data": {
      "text/plain": [
       "0      <built-in function sum>\n",
       "1    <built-in function print>\n",
       "2      <built-in function len>\n",
       "dtype: object"
      ]
     },
     "execution_count": 396,
     "metadata": {},
     "output_type": "execute_result"
    }
   ],
   "source": [
    "pd.Series([sum, print, len])  # Yes, even functions!"
   ]
  },
  {
   "cell_type": "markdown",
   "id": "02b0cda7-345a-40db-8f13-5ae49e2e39e8",
   "metadata": {},
   "source": [
    "<span style=\"font-size:18px; font-weight:bold;\">\n",
    "\n",
    "## 1.1 Indexing and Retrieval\n",
    "**The index in a Series acts like a key in a dictionary.**"
   ]
  },
  {
   "cell_type": "code",
   "execution_count": 399,
   "id": "36a41f20-3889-48b9-a161-d6bc2bd0a161",
   "metadata": {},
   "outputs": [],
   "source": [
    "ser1 = pd.Series([1,2,3,4], index=['USA', 'Germany', 'USSR', 'Japan'])  \n",
    "ser2 = pd.Series([1,2,5,4], index=['USA', 'Germany', 'Italy', 'Japan'])"
   ]
  },
  {
   "cell_type": "markdown",
   "id": "4b30adee-c263-4e13-87b9-4fcb1defac6e",
   "metadata": {},
   "source": [
    "<span style=\"font-size:18px; font-weight:bold;\">\n",
    "\n",
    "**Access by Lable**:"
   ]
  },
  {
   "cell_type": "code",
   "execution_count": 402,
   "id": "e1761462-c873-44c2-a006-c6aaccfe847a",
   "metadata": {},
   "outputs": [
    {
     "data": {
      "text/plain": [
       "1"
      ]
     },
     "execution_count": 402,
     "metadata": {},
     "output_type": "execute_result"
    }
   ],
   "source": [
    "ser1['USA']  # Returns 1"
   ]
  },
  {
   "cell_type": "markdown",
   "id": "b5ac13c1-ab55-448e-b449-891aca62752f",
   "metadata": {},
   "source": [
    "<span style=\"font-size:18px; font-weight:bold;\">\n",
    "\n",
    "## Series Arithmetic (Auto-alignment)\n",
    "**Operations between Series match values by index, not by position:**"
   ]
  },
  {
   "cell_type": "code",
   "execution_count": 405,
   "id": "7fef4437-83ac-40e8-8d77-c87ffc2fccec",
   "metadata": {},
   "outputs": [
    {
     "data": {
      "text/plain": [
       "Germany    4.0\n",
       "Italy      NaN\n",
       "Japan      8.0\n",
       "USA        2.0\n",
       "USSR       NaN\n",
       "dtype: float64"
      ]
     },
     "execution_count": 405,
     "metadata": {},
     "output_type": "execute_result"
    }
   ],
   "source": [
    "ser1 + ser2  # USSR and Italy become NaN where no match"
   ]
  },
  {
   "cell_type": "markdown",
   "id": "674caeef-45f7-4f12-9ffe-d0e76bbb2b50",
   "metadata": {},
   "source": [
    "<span style=\"font-size:18px; font-weight:bold;\">\n",
    "\n",
    "**Note: If a label is missing in either Series, the result will be NaN for that label.**"
   ]
  },
  {
   "cell_type": "markdown",
   "id": "11d3b4d8-1423-41cb-9a10-39bceef17664",
   "metadata": {},
   "source": [
    "# Pandas DataFrame\n",
    "<span style=\"font-size:18px; font-weight:bold;\">\n",
    "A DataFrame is like a table — a collection of multiple Series objects aligned by a common index (rows). It’s the core structure used in Pandas and is similar to Excel spreadsheets and SQL tables.\n",
    "</span>"
   ]
  },
  {
   "cell_type": "markdown",
   "id": "27359791-ea85-4c33-8d95-f1334b116bab",
   "metadata": {},
   "source": [
    "## Creating a DataFrame Using Lists"
   ]
  },
  {
   "cell_type": "code",
   "execution_count": 463,
   "id": "7cbb6bfc-3621-4680-ade4-9659fd6674db",
   "metadata": {},
   "outputs": [],
   "source": [
    "columns = ['Student ID', 'Course ID', 'Marks']\n",
    "student_data = [(103, 201, 67), (103, 203, 67), (103, 204, 89)]\n",
    "dataframe = pd.DataFrame(student_data, columns=columns)"
   ]
  },
  {
   "cell_type": "code",
   "execution_count": 465,
   "id": "dbf9d63c-7de0-464a-b00b-59e20ae256c3",
   "metadata": {},
   "outputs": [
    {
     "data": {
      "text/html": [
       "<div>\n",
       "<style scoped>\n",
       "    .dataframe tbody tr th:only-of-type {\n",
       "        vertical-align: middle;\n",
       "    }\n",
       "\n",
       "    .dataframe tbody tr th {\n",
       "        vertical-align: top;\n",
       "    }\n",
       "\n",
       "    .dataframe thead th {\n",
       "        text-align: right;\n",
       "    }\n",
       "</style>\n",
       "<table border=\"1\" class=\"dataframe\">\n",
       "  <thead>\n",
       "    <tr style=\"text-align: right;\">\n",
       "      <th></th>\n",
       "      <th>Student ID</th>\n",
       "      <th>Course ID</th>\n",
       "      <th>Marks</th>\n",
       "    </tr>\n",
       "  </thead>\n",
       "  <tbody>\n",
       "    <tr>\n",
       "      <th>0</th>\n",
       "      <td>103</td>\n",
       "      <td>201</td>\n",
       "      <td>67</td>\n",
       "    </tr>\n",
       "    <tr>\n",
       "      <th>1</th>\n",
       "      <td>103</td>\n",
       "      <td>203</td>\n",
       "      <td>67</td>\n",
       "    </tr>\n",
       "    <tr>\n",
       "      <th>2</th>\n",
       "      <td>103</td>\n",
       "      <td>204</td>\n",
       "      <td>89</td>\n",
       "    </tr>\n",
       "  </tbody>\n",
       "</table>\n",
       "</div>"
      ],
      "text/plain": [
       "   Student ID  Course ID  Marks\n",
       "0         103        201     67\n",
       "1         103        203     67\n",
       "2         103        204     89"
      ]
     },
     "execution_count": 465,
     "metadata": {},
     "output_type": "execute_result"
    }
   ],
   "source": [
    "dataframe"
   ]
  },
  {
   "cell_type": "markdown",
   "id": "9043d96d-a32a-4642-9cd5-5bcb0e3089dd",
   "metadata": {},
   "source": [
    "## Creating a DataFrame Using Dictionary\n"
   ]
  },
  {
   "cell_type": "code",
   "execution_count": 530,
   "id": "35dbe45f-5896-4efe-99fc-ce5038e7349c",
   "metadata": {},
   "outputs": [],
   "source": [
    "data = {'col1': [1, 2, 3], 'col2': [4, 5, 6], 'col3': ['m','t','h']}\n",
    "index=['A','B','C']\n",
    "df = pd.DataFrame(data,index)\n"
   ]
  },
  {
   "cell_type": "code",
   "execution_count": 532,
   "id": "a209e495-1ea2-410c-b93c-575ac04483b5",
   "metadata": {},
   "outputs": [
    {
     "data": {
      "text/html": [
       "<div>\n",
       "<style scoped>\n",
       "    .dataframe tbody tr th:only-of-type {\n",
       "        vertical-align: middle;\n",
       "    }\n",
       "\n",
       "    .dataframe tbody tr th {\n",
       "        vertical-align: top;\n",
       "    }\n",
       "\n",
       "    .dataframe thead th {\n",
       "        text-align: right;\n",
       "    }\n",
       "</style>\n",
       "<table border=\"1\" class=\"dataframe\">\n",
       "  <thead>\n",
       "    <tr style=\"text-align: right;\">\n",
       "      <th></th>\n",
       "      <th>col1</th>\n",
       "      <th>col2</th>\n",
       "      <th>col3</th>\n",
       "    </tr>\n",
       "  </thead>\n",
       "  <tbody>\n",
       "    <tr>\n",
       "      <th>A</th>\n",
       "      <td>1</td>\n",
       "      <td>4</td>\n",
       "      <td>m</td>\n",
       "    </tr>\n",
       "    <tr>\n",
       "      <th>B</th>\n",
       "      <td>2</td>\n",
       "      <td>5</td>\n",
       "      <td>t</td>\n",
       "    </tr>\n",
       "    <tr>\n",
       "      <th>C</th>\n",
       "      <td>3</td>\n",
       "      <td>6</td>\n",
       "      <td>h</td>\n",
       "    </tr>\n",
       "  </tbody>\n",
       "</table>\n",
       "</div>"
      ],
      "text/plain": [
       "   col1  col2 col3\n",
       "A     1     4    m\n",
       "B     2     5    t\n",
       "C     3     6    h"
      ]
     },
     "execution_count": 532,
     "metadata": {},
     "output_type": "execute_result"
    }
   ],
   "source": [
    "df"
   ]
  },
  {
   "cell_type": "markdown",
   "id": "90cac708-fb6c-4fe9-901f-58f2db6bf00f",
   "metadata": {},
   "source": [
    "<span style=\"font-size:18px; font-weight:bold;\">\n",
    "\n",
    "## Selecting Columns"
   ]
  },
  {
   "cell_type": "code",
   "execution_count": 535,
   "id": "e3e286e1-cd6c-4498-be4e-2d12e48e0518",
   "metadata": {},
   "outputs": [
    {
     "data": {
      "text/plain": [
       "A    1\n",
       "B    2\n",
       "C    3\n",
       "Name: col1, dtype: int64"
      ]
     },
     "execution_count": 535,
     "metadata": {},
     "output_type": "execute_result"
    }
   ],
   "source": [
    "df['col1']   # Returns a Series"
   ]
  },
  {
   "cell_type": "code",
   "execution_count": 537,
   "id": "e838a530-1a9e-45d1-9b9a-4390046f156c",
   "metadata": {},
   "outputs": [
    {
     "data": {
      "text/html": [
       "<div>\n",
       "<style scoped>\n",
       "    .dataframe tbody tr th:only-of-type {\n",
       "        vertical-align: middle;\n",
       "    }\n",
       "\n",
       "    .dataframe tbody tr th {\n",
       "        vertical-align: top;\n",
       "    }\n",
       "\n",
       "    .dataframe thead th {\n",
       "        text-align: right;\n",
       "    }\n",
       "</style>\n",
       "<table border=\"1\" class=\"dataframe\">\n",
       "  <thead>\n",
       "    <tr style=\"text-align: right;\">\n",
       "      <th></th>\n",
       "      <th>col1</th>\n",
       "      <th>col2</th>\n",
       "    </tr>\n",
       "  </thead>\n",
       "  <tbody>\n",
       "    <tr>\n",
       "      <th>A</th>\n",
       "      <td>1</td>\n",
       "      <td>4</td>\n",
       "    </tr>\n",
       "    <tr>\n",
       "      <th>B</th>\n",
       "      <td>2</td>\n",
       "      <td>5</td>\n",
       "    </tr>\n",
       "    <tr>\n",
       "      <th>C</th>\n",
       "      <td>3</td>\n",
       "      <td>6</td>\n",
       "    </tr>\n",
       "  </tbody>\n",
       "</table>\n",
       "</div>"
      ],
      "text/plain": [
       "   col1  col2\n",
       "A     1     4\n",
       "B     2     5\n",
       "C     3     6"
      ]
     },
     "execution_count": 537,
     "metadata": {},
     "output_type": "execute_result"
    }
   ],
   "source": [
    "df[['col1', 'col2']]   # Returns a DataFrame"
   ]
  },
  {
   "cell_type": "markdown",
   "id": "68258d0b-b867-4095-abe5-0689fd5ac1cc",
   "metadata": {},
   "source": [
    "<span style=\"font-size:18px; font-weight:bold;\">\n",
    "\n",
    "### Dot notation like df.Marks is possible but not recommended because:\n",
    "\n",
    "- It fails if column names have spaces\n",
    "\n",
    "- It can be ambiguous with method names"
   ]
  },
  {
   "cell_type": "code",
   "execution_count": 540,
   "id": "956a8088-c61b-46a0-a2d5-5d58ee766ea1",
   "metadata": {},
   "outputs": [
    {
     "data": {
      "text/plain": [
       "A    m\n",
       "B    t\n",
       "C    h\n",
       "Name: col3, dtype: object"
      ]
     },
     "execution_count": 540,
     "metadata": {},
     "output_type": "execute_result"
    }
   ],
   "source": [
    "df.col3"
   ]
  },
  {
   "cell_type": "markdown",
   "id": "2fe201f3-5d42-4d18-bb3f-2cf765175d34",
   "metadata": {},
   "source": [
    "<span style=\"font-size:18px; font-weight:bold;\">\n",
    "\n",
    "## Creating New Columns"
   ]
  },
  {
   "cell_type": "code",
   "execution_count": 543,
   "id": "ccda10da-6f2d-498b-97f4-a792385f5d26",
   "metadata": {},
   "outputs": [],
   "source": [
    "df['new_col'] = df['col1'] + df['col2']"
   ]
  },
  {
   "cell_type": "code",
   "execution_count": 545,
   "id": "d3b0dcd0-a44f-4db4-88c8-0b58e80f0bf7",
   "metadata": {},
   "outputs": [
    {
     "data": {
      "text/html": [
       "<div>\n",
       "<style scoped>\n",
       "    .dataframe tbody tr th:only-of-type {\n",
       "        vertical-align: middle;\n",
       "    }\n",
       "\n",
       "    .dataframe tbody tr th {\n",
       "        vertical-align: top;\n",
       "    }\n",
       "\n",
       "    .dataframe thead th {\n",
       "        text-align: right;\n",
       "    }\n",
       "</style>\n",
       "<table border=\"1\" class=\"dataframe\">\n",
       "  <thead>\n",
       "    <tr style=\"text-align: right;\">\n",
       "      <th></th>\n",
       "      <th>col1</th>\n",
       "      <th>col2</th>\n",
       "      <th>col3</th>\n",
       "      <th>new_col</th>\n",
       "    </tr>\n",
       "  </thead>\n",
       "  <tbody>\n",
       "    <tr>\n",
       "      <th>A</th>\n",
       "      <td>1</td>\n",
       "      <td>4</td>\n",
       "      <td>m</td>\n",
       "      <td>5</td>\n",
       "    </tr>\n",
       "    <tr>\n",
       "      <th>B</th>\n",
       "      <td>2</td>\n",
       "      <td>5</td>\n",
       "      <td>t</td>\n",
       "      <td>7</td>\n",
       "    </tr>\n",
       "    <tr>\n",
       "      <th>C</th>\n",
       "      <td>3</td>\n",
       "      <td>6</td>\n",
       "      <td>h</td>\n",
       "      <td>9</td>\n",
       "    </tr>\n",
       "  </tbody>\n",
       "</table>\n",
       "</div>"
      ],
      "text/plain": [
       "   col1  col2 col3  new_col\n",
       "A     1     4    m        5\n",
       "B     2     5    t        7\n",
       "C     3     6    h        9"
      ]
     },
     "execution_count": 545,
     "metadata": {},
     "output_type": "execute_result"
    }
   ],
   "source": [
    "df"
   ]
  },
  {
   "cell_type": "markdown",
   "id": "3d6749a1-8e96-43a2-b9f0-fd89265bca04",
   "metadata": {},
   "source": [
    "<span style=\"font-size:18px; font-weight:bold;\">\n",
    "\n",
    "Add derived values easily — similar to Excel formulas.\n",
    "\n"
   ]
  },
  {
   "cell_type": "markdown",
   "id": "0ffd834d-3a22-4a83-bf35-cd1b1e0a96f2",
   "metadata": {},
   "source": [
    "<span style=\"font-size:18px; font-weight:bold;\">\n",
    "\n",
    "## Removing Columns and Rows"
   ]
  },
  {
   "cell_type": "markdown",
   "id": "88792ddb-98d8-40d3-b61d-3d54a37478a8",
   "metadata": {},
   "source": [
    "<span style=\"font-size:18px; font-weight:bold;\">\n",
    "\n",
    "### Remove a column:"
   ]
  },
  {
   "cell_type": "code",
   "execution_count": 550,
   "id": "b5f98f84-33c4-4568-8651-39f04274560a",
   "metadata": {},
   "outputs": [],
   "source": [
    "new_df=df.drop('new_col', axis=1)            # Returns a new DataFrame and keep the original dataframe unchenaged"
   ]
  },
  {
   "cell_type": "code",
   "execution_count": 552,
   "id": "50665d31-b52f-417e-9efe-df3b4f6d5a0f",
   "metadata": {},
   "outputs": [
    {
     "data": {
      "text/html": [
       "<div>\n",
       "<style scoped>\n",
       "    .dataframe tbody tr th:only-of-type {\n",
       "        vertical-align: middle;\n",
       "    }\n",
       "\n",
       "    .dataframe tbody tr th {\n",
       "        vertical-align: top;\n",
       "    }\n",
       "\n",
       "    .dataframe thead th {\n",
       "        text-align: right;\n",
       "    }\n",
       "</style>\n",
       "<table border=\"1\" class=\"dataframe\">\n",
       "  <thead>\n",
       "    <tr style=\"text-align: right;\">\n",
       "      <th></th>\n",
       "      <th>col1</th>\n",
       "      <th>col2</th>\n",
       "      <th>col3</th>\n",
       "    </tr>\n",
       "  </thead>\n",
       "  <tbody>\n",
       "    <tr>\n",
       "      <th>A</th>\n",
       "      <td>1</td>\n",
       "      <td>4</td>\n",
       "      <td>m</td>\n",
       "    </tr>\n",
       "    <tr>\n",
       "      <th>B</th>\n",
       "      <td>2</td>\n",
       "      <td>5</td>\n",
       "      <td>t</td>\n",
       "    </tr>\n",
       "    <tr>\n",
       "      <th>C</th>\n",
       "      <td>3</td>\n",
       "      <td>6</td>\n",
       "      <td>h</td>\n",
       "    </tr>\n",
       "  </tbody>\n",
       "</table>\n",
       "</div>"
      ],
      "text/plain": [
       "   col1  col2 col3\n",
       "A     1     4    m\n",
       "B     2     5    t\n",
       "C     3     6    h"
      ]
     },
     "execution_count": 552,
     "metadata": {},
     "output_type": "execute_result"
    }
   ],
   "source": [
    "new_df"
   ]
  },
  {
   "cell_type": "code",
   "execution_count": 554,
   "id": "6b80b35e-2b37-4ded-8565-8ca0f70c5c22",
   "metadata": {},
   "outputs": [],
   "source": [
    "df.drop('new_col', axis=1, inplace=True)  # Modifies in place"
   ]
  },
  {
   "cell_type": "code",
   "execution_count": 556,
   "id": "794e3f4c-cf54-42ee-aac4-4f8a0495509f",
   "metadata": {},
   "outputs": [
    {
     "data": {
      "text/html": [
       "<div>\n",
       "<style scoped>\n",
       "    .dataframe tbody tr th:only-of-type {\n",
       "        vertical-align: middle;\n",
       "    }\n",
       "\n",
       "    .dataframe tbody tr th {\n",
       "        vertical-align: top;\n",
       "    }\n",
       "\n",
       "    .dataframe thead th {\n",
       "        text-align: right;\n",
       "    }\n",
       "</style>\n",
       "<table border=\"1\" class=\"dataframe\">\n",
       "  <thead>\n",
       "    <tr style=\"text-align: right;\">\n",
       "      <th></th>\n",
       "      <th>col1</th>\n",
       "      <th>col2</th>\n",
       "      <th>col3</th>\n",
       "    </tr>\n",
       "  </thead>\n",
       "  <tbody>\n",
       "    <tr>\n",
       "      <th>A</th>\n",
       "      <td>1</td>\n",
       "      <td>4</td>\n",
       "      <td>m</td>\n",
       "    </tr>\n",
       "    <tr>\n",
       "      <th>B</th>\n",
       "      <td>2</td>\n",
       "      <td>5</td>\n",
       "      <td>t</td>\n",
       "    </tr>\n",
       "    <tr>\n",
       "      <th>C</th>\n",
       "      <td>3</td>\n",
       "      <td>6</td>\n",
       "      <td>h</td>\n",
       "    </tr>\n",
       "  </tbody>\n",
       "</table>\n",
       "</div>"
      ],
      "text/plain": [
       "   col1  col2 col3\n",
       "A     1     4    m\n",
       "B     2     5    t\n",
       "C     3     6    h"
      ]
     },
     "execution_count": 556,
     "metadata": {},
     "output_type": "execute_result"
    }
   ],
   "source": [
    "df"
   ]
  },
  {
   "cell_type": "markdown",
   "id": "4100e52e-8a6e-4ae8-a798-077abafa8ecf",
   "metadata": {},
   "source": [
    "<span style=\"font-size:18px; font-weight:bold;\">\n",
    "\n",
    "### Remove a row"
   ]
  },
  {
   "cell_type": "code",
   "execution_count": 563,
   "id": "f6075afc-487d-4d81-85b8-0a679c28f1ea",
   "metadata": {},
   "outputs": [
    {
     "data": {
      "text/html": [
       "<div>\n",
       "<style scoped>\n",
       "    .dataframe tbody tr th:only-of-type {\n",
       "        vertical-align: middle;\n",
       "    }\n",
       "\n",
       "    .dataframe tbody tr th {\n",
       "        vertical-align: top;\n",
       "    }\n",
       "\n",
       "    .dataframe thead th {\n",
       "        text-align: right;\n",
       "    }\n",
       "</style>\n",
       "<table border=\"1\" class=\"dataframe\">\n",
       "  <thead>\n",
       "    <tr style=\"text-align: right;\">\n",
       "      <th></th>\n",
       "      <th>col1</th>\n",
       "      <th>col2</th>\n",
       "      <th>col3</th>\n",
       "    </tr>\n",
       "  </thead>\n",
       "  <tbody>\n",
       "    <tr>\n",
       "      <th>B</th>\n",
       "      <td>2</td>\n",
       "      <td>5</td>\n",
       "      <td>t</td>\n",
       "    </tr>\n",
       "    <tr>\n",
       "      <th>C</th>\n",
       "      <td>3</td>\n",
       "      <td>6</td>\n",
       "      <td>h</td>\n",
       "    </tr>\n",
       "  </tbody>\n",
       "</table>\n",
       "</div>"
      ],
      "text/plain": [
       "   col1  col2 col3\n",
       "B     2     5    t\n",
       "C     3     6    h"
      ]
     },
     "execution_count": 563,
     "metadata": {},
     "output_type": "execute_result"
    }
   ],
   "source": [
    "df.drop('A', axis=0) # Returns a new DataFrame and keep the original dataframe unchenaged"
   ]
  },
  {
   "cell_type": "code",
   "execution_count": 565,
   "id": "698f48cb-94ef-4762-8a54-b06ef19687c3",
   "metadata": {},
   "outputs": [],
   "source": [
    "df.drop('A', axis=0, inplace=True) # Modifies in place"
   ]
  },
  {
   "cell_type": "code",
   "execution_count": 567,
   "id": "f9413d9a-f771-44a6-b8d5-dc66e4194ab8",
   "metadata": {},
   "outputs": [
    {
     "data": {
      "text/html": [
       "<div>\n",
       "<style scoped>\n",
       "    .dataframe tbody tr th:only-of-type {\n",
       "        vertical-align: middle;\n",
       "    }\n",
       "\n",
       "    .dataframe tbody tr th {\n",
       "        vertical-align: top;\n",
       "    }\n",
       "\n",
       "    .dataframe thead th {\n",
       "        text-align: right;\n",
       "    }\n",
       "</style>\n",
       "<table border=\"1\" class=\"dataframe\">\n",
       "  <thead>\n",
       "    <tr style=\"text-align: right;\">\n",
       "      <th></th>\n",
       "      <th>col1</th>\n",
       "      <th>col2</th>\n",
       "      <th>col3</th>\n",
       "    </tr>\n",
       "  </thead>\n",
       "  <tbody>\n",
       "    <tr>\n",
       "      <th>B</th>\n",
       "      <td>2</td>\n",
       "      <td>5</td>\n",
       "      <td>t</td>\n",
       "    </tr>\n",
       "    <tr>\n",
       "      <th>C</th>\n",
       "      <td>3</td>\n",
       "      <td>6</td>\n",
       "      <td>h</td>\n",
       "    </tr>\n",
       "  </tbody>\n",
       "</table>\n",
       "</div>"
      ],
      "text/plain": [
       "   col1  col2 col3\n",
       "B     2     5    t\n",
       "C     3     6    h"
      ]
     },
     "execution_count": 567,
     "metadata": {},
     "output_type": "execute_result"
    }
   ],
   "source": [
    "df"
   ]
  },
  {
   "cell_type": "markdown",
   "id": "98168b75-c10e-4d84-9f54-29e38a4426eb",
   "metadata": {},
   "source": [
    "<span style=\"font-size:18px; font-weight:bold;\">\n",
    "\n",
    "## Selecting Rows"
   ]
  },
  {
   "cell_type": "code",
   "execution_count": 576,
   "id": "6e3e210a-65b3-4376-bf95-bff27c05e505",
   "metadata": {},
   "outputs": [],
   "source": [
    "data = {'col1': [1, 2, 3], 'col2': [4, 5, 6], 'col3': ['m','t','h']}\n",
    "index=['A','B','C']\n",
    "df = pd.DataFrame(data,index)"
   ]
  },
  {
   "cell_type": "markdown",
   "id": "54e994c5-ef15-4b47-b92d-a992cc611363",
   "metadata": {},
   "source": [
    "<span style=\"font-size:18px; font-weight:bold;\">\n",
    "\n",
    "### By label"
   ]
  },
  {
   "cell_type": "code",
   "execution_count": 578,
   "id": "c3a24286-7fe6-4847-bd59-cad7392bde91",
   "metadata": {},
   "outputs": [
    {
     "data": {
      "text/plain": [
       "col1    1\n",
       "col2    4\n",
       "col3    m\n",
       "Name: A, dtype: object"
      ]
     },
     "execution_count": 578,
     "metadata": {},
     "output_type": "execute_result"
    }
   ],
   "source": [
    "df.loc['A']"
   ]
  },
  {
   "cell_type": "markdown",
   "id": "100e1399-e251-44d5-8259-6c4d840b90d4",
   "metadata": {},
   "source": [
    "<span style=\"font-size:18px; font-weight:bold;\">\n",
    "    \n",
    "### By integer position:\n"
   ]
  },
  {
   "cell_type": "code",
   "execution_count": 590,
   "id": "e9c4061e-bb0d-4260-832b-00e3d10a4b48",
   "metadata": {},
   "outputs": [
    {
     "data": {
      "text/plain": [
       "col1    3\n",
       "col2    6\n",
       "col3    h\n",
       "Name: C, dtype: object"
      ]
     },
     "execution_count": 590,
     "metadata": {},
     "output_type": "execute_result"
    }
   ],
   "source": [
    "df.iloc[2]"
   ]
  },
  {
   "cell_type": "markdown",
   "id": "29982909-81fe-4375-b5ae-056f4a7c1002",
   "metadata": {},
   "source": [
    "<span style=\"font-size:18px; font-weight:bold;\">\n",
    "\n",
    "\n",
    "### Subset (rows and columns):\n"
   ]
  },
  {
   "cell_type": "code",
   "execution_count": 594,
   "id": "cc1f1d17-a559-4e73-9bfa-70cdee52711b",
   "metadata": {},
   "outputs": [
    {
     "data": {
      "text/html": [
       "<div>\n",
       "<style scoped>\n",
       "    .dataframe tbody tr th:only-of-type {\n",
       "        vertical-align: middle;\n",
       "    }\n",
       "\n",
       "    .dataframe tbody tr th {\n",
       "        vertical-align: top;\n",
       "    }\n",
       "\n",
       "    .dataframe thead th {\n",
       "        text-align: right;\n",
       "    }\n",
       "</style>\n",
       "<table border=\"1\" class=\"dataframe\">\n",
       "  <thead>\n",
       "    <tr style=\"text-align: right;\">\n",
       "      <th></th>\n",
       "      <th>col1</th>\n",
       "      <th>col2</th>\n",
       "    </tr>\n",
       "  </thead>\n",
       "  <tbody>\n",
       "    <tr>\n",
       "      <th>A</th>\n",
       "      <td>1</td>\n",
       "      <td>4</td>\n",
       "    </tr>\n",
       "    <tr>\n",
       "      <th>B</th>\n",
       "      <td>2</td>\n",
       "      <td>5</td>\n",
       "    </tr>\n",
       "  </tbody>\n",
       "</table>\n",
       "</div>"
      ],
      "text/plain": [
       "   col1  col2\n",
       "A     1     4\n",
       "B     2     5"
      ]
     },
     "execution_count": 594,
     "metadata": {},
     "output_type": "execute_result"
    }
   ],
   "source": [
    "df.loc[['A','B'], ['col1','col2']]\n"
   ]
  },
  {
   "cell_type": "code",
   "execution_count": null,
   "id": "bae7bf88-6dcb-4b86-a063-d6494b16458e",
   "metadata": {},
   "outputs": [],
   "source": []
  }
 ],
 "metadata": {
  "kernelspec": {
   "display_name": "Python [conda env:base] *",
   "language": "python",
   "name": "conda-base-py"
  },
  "language_info": {
   "codemirror_mode": {
    "name": "ipython",
    "version": 3
   },
   "file_extension": ".py",
   "mimetype": "text/x-python",
   "name": "python",
   "nbconvert_exporter": "python",
   "pygments_lexer": "ipython3",
   "version": "3.12.7"
  }
 },
 "nbformat": 4,
 "nbformat_minor": 5
}
