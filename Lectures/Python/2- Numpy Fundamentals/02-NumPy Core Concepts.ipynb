{
 "cells": [
  {
   "cell_type": "markdown",
   "metadata": {},
   "source": [
    "# NumPy: Core Concepts and Functionalities\n",
    "\n",
    "NumPy (short for Numerical Python) is a powerful open-source library that facilitates numerical operations in Python. It’s especially valuable for data science, machine learning, and scientific computing. What makes NumPy essential is that it serves as the backbone for many other libraries such as Pandas, SciPy, and scikit-learn.\n",
    "\n",
    "By enabling fast computations with arrays and matrices, NumPy allows developers and researchers to handle large datasets more efficiently than with native Python lists.\n",
    "\n"
   ]
  },
  {
   "cell_type": "markdown",
   "metadata": {
    "jp-MarkdownHeadingCollapsed": true
   },
   "source": [
    "## Installation Instructions\n",
    "\n",
    "**To get started with NumPy, it’s best to use the Anaconda distribution, which conveniently includes NumPy and a suite of other tools used in scientific computing. This reduces compatibility issues and makes setup easy.\n",
    "To install NumPy via Anaconda, open a terminal (or Anaconda Prompt on Windows) and run:**\n",
    "    \n",
    "    conda install numpy\n"
   ]
  },
  {
   "cell_type": "markdown",
   "metadata": {},
   "source": [
    "## Using NumPy\n",
    "\n",
    "Once you've installed NumPy you can import it as a library:"
   ]
  },
  {
   "cell_type": "code",
   "execution_count": null,
   "metadata": {},
   "outputs": [],
   "source": [
    "import numpy as np"
   ]
  },
  {
   "cell_type": "markdown",
   "metadata": {},
   "source": [
    "This shorthand is a widely accepted convention and helps keep code clean and concise.\n",
    "\n",
    "NumPy provides a rich set of tools, including:\n",
    "\n",
    "- Multidimensional arrays (ndarrays)\n",
    "\n",
    "- Mathematical operations\n",
    "\n",
    "- Random number generation\n",
    "\n",
    "- Linear algebra and statistics functions\n",
    "\n",
    "Let’s begin exploring some of the core features of NumPy arrays.\n",
    "# Numpy Arrays: The Core Data Structure\n",
    "NumPy array is a high-performance container for large datasets of numeric values. Compared to Python lists, arrays are:\n",
    "\n",
    "- Faster\n",
    "\n",
    "- More memory efficient\n",
    "\n",
    "- Support vectorized operations (no need for loops)\n",
    "\n",
    "**Vector vs Matrix**\n",
    "\n",
    "- A vector is a 1-dimensional array.\n",
    "\n",
    "- A matrix is a 2-dimensional array (e.g., 2 rows by 3 columns).\n",
    "\n",
    "Let’s explore how to create NumPy arrays.\n",
    "\n",
    "## Creating NumPy Arrays\n",
    "### From a Python List\n",
    "You can convert a Python list into a NumPy array using np.array():"
   ]
  },
  {
   "cell_type": "code",
   "execution_count": null,
   "metadata": {},
   "outputs": [],
   "source": [
    "my_list = [1, 2, 3]\n",
    "np_array = np.array(my_list)\n",
    "print(np_array)"
   ]
  },
  {
   "cell_type": "code",
   "execution_count": null,
   "metadata": {},
   "outputs": [],
   "source": [
    "np.array(my_list)"
   ]
  },
  {
   "cell_type": "markdown",
   "metadata": {},
   "source": [
    "**For a list of lists (i.e., a matrix):**"
   ]
  },
  {
   "cell_type": "code",
   "execution_count": null,
   "metadata": {},
   "outputs": [],
   "source": [
    "matrix = np.array([[1, 2, 3], [4, 5, 6]])\n",
    "print(matrix)"
   ]
  },
  {
   "cell_type": "markdown",
   "metadata": {},
   "source": [
    "## Generating Arrays with Built-in Functions\n",
    "\n",
    "NumPy comes with many convenient built-in functions for creating arrays quickly and efficiently. These functions are especially helpful when you need to generate data structures for simulations, initializations, or testing."
   ]
  },
  {
   "cell_type": "markdown",
   "metadata": {},
   "source": [
    "### Using np.arange()\n",
    "\n",
    "The arange() function is used to create an array with values spaced evenly over a specified range.\n"
   ]
  },
  {
   "cell_type": "code",
   "execution_count": null,
   "metadata": {},
   "outputs": [],
   "source": [
    "np.arange(0,10)"
   ]
  },
  {
   "cell_type": "markdown",
   "metadata": {},
   "source": [
    "**You can also specify a step size:**"
   ]
  },
  {
   "cell_type": "code",
   "execution_count": null,
   "metadata": {},
   "outputs": [],
   "source": [
    "np.arange(0,11,2)"
   ]
  },
  {
   "cell_type": "markdown",
   "metadata": {},
   "source": [
    "### Creating Arrays of Zeros and Ones\n",
    "\n",
    "You can quickly generate arrays filled with only 0s or 1s using np.zeros() and np.ones()."
   ]
  },
  {
   "cell_type": "code",
   "execution_count": null,
   "metadata": {},
   "outputs": [],
   "source": [
    "np.zeros(3)"
   ]
  },
  {
   "cell_type": "markdown",
   "metadata": {},
   "source": [
    "**For multi-dimensional arrays:**"
   ]
  },
  {
   "cell_type": "code",
   "execution_count": null,
   "metadata": {},
   "outputs": [],
   "source": [
    "np.zeros((5,5))"
   ]
  },
  {
   "cell_type": "code",
   "execution_count": null,
   "metadata": {},
   "outputs": [],
   "source": [
    "np.ones(3)"
   ]
  },
  {
   "cell_type": "code",
   "execution_count": null,
   "metadata": {},
   "outputs": [],
   "source": [
    "np.ones((3,3))"
   ]
  },
  {
   "cell_type": "markdown",
   "metadata": {},
   "source": [
    "### np.full() and np.empty()\n",
    "You can also fill arrays with a custom value:"
   ]
  },
  {
   "cell_type": "code",
   "execution_count": null,
   "metadata": {},
   "outputs": [],
   "source": [
    "np.full((2, 2), 7)\n",
    "\n"
   ]
  },
  {
   "cell_type": "markdown",
   "metadata": {},
   "source": [
    "**And if you want just an allocated memory space (uninitialized values), use np.empty():**"
   ]
  },
  {
   "cell_type": "code",
   "execution_count": null,
   "metadata": {},
   "outputs": [],
   "source": [
    "np.empty((2, 3))\n"
   ]
  },
  {
   "cell_type": "markdown",
   "metadata": {},
   "source": [
    "### Creating Evenly Spaced Numbers with np.linspace()\n",
    "The linspace() function returns evenly spaced numbers over a specified interval. Unlike arange(), which steps by a fixed amount, linspace() generates a fixed number of points between two endpoints."
   ]
  },
  {
   "cell_type": "code",
   "execution_count": null,
   "metadata": {},
   "outputs": [],
   "source": [
    "np.linspace(0,10,3)"
   ]
  },
  {
   "cell_type": "code",
   "execution_count": null,
   "metadata": {},
   "outputs": [],
   "source": [
    "np.linspace(0,10,50)"
   ]
  },
  {
   "cell_type": "markdown",
   "metadata": {},
   "source": [
    "**Use Case Tip: linspace() is commonly used for plotting functions and generating smooth sequences.**"
   ]
  },
  {
   "cell_type": "markdown",
   "metadata": {},
   "source": [
    "## Creating Identity Matrices with np.eye()\n",
    "\n",
    "The eye() function creates a square identity matrix — a matrix with ones on the diagonal and zeros elsewhere."
   ]
  },
  {
   "cell_type": "code",
   "execution_count": null,
   "metadata": {},
   "outputs": [],
   "source": [
    "np.eye(4)"
   ]
  },
  {
   "cell_type": "markdown",
   "metadata": {},
   "source": [
    "You can also create rectangular versions:"
   ]
  },
  {
   "cell_type": "code",
   "execution_count": null,
   "metadata": {},
   "outputs": [],
   "source": [
    "np.eye(2, 4)\n"
   ]
  },
  {
   "cell_type": "markdown",
   "metadata": {},
   "source": [
    "## np.diag() – Diagonal Matrix Creation\n",
    "Use diag() to create a diagonal matrix from a 1D array:"
   ]
  },
  {
   "cell_type": "code",
   "execution_count": null,
   "metadata": {},
   "outputs": [],
   "source": [
    "np.diag([1, 2, 3])\n"
   ]
  },
  {
   "cell_type": "markdown",
   "metadata": {},
   "source": [
    "##  Summary Table of Built-in Array Generators"
   ]
  },
  {
   "cell_type": "markdown",
   "metadata": {},
   "source": [
    "| Function     | Description                                      | Example                          |\n",
    "|--------------|--------------------------------------------------|----------------------------------|\n",
    "| `arange()`   | Evenly spaced values by step                     | `np.arange(0, 10, 2)`            |\n",
    "| `linspace()` | Evenly spaced values by count                    | `np.linspace(0, 1, 5)`           |\n",
    "| `zeros()`    | Array filled with zeros                          | `np.zeros((3, 3))`               |\n",
    "| `ones()`     | Array filled with ones                           | `np.ones(4)`                     |\n",
    "| `full()`     | Array filled with a specific value               | `np.full((2, 2), 9)`             |\n",
    "| `empty()`    | Uninitialized values (fast, but random content)  | `np.empty((2, 3))`               |\n",
    "| `eye()`      | Identity matrix                                  | `np.eye(3)`                      |\n",
    "| `diag()`     | Diagonal matrix or diagonal extraction           | `np.diag([1, 2, 3])`             |\n"
   ]
  },
  {
   "cell_type": "markdown",
   "metadata": {},
   "source": [
    "## Random \n",
    "\n",
    "Numpy also has lots of ways to create random number arrays:\n",
    "\n",
    "### rand\n",
    "Create an array of the given shape and populate it with\n",
    "random samples from a uniform distribution\n",
    "over ``[0, 1)``."
   ]
  },
  {
   "cell_type": "code",
   "execution_count": null,
   "metadata": {},
   "outputs": [],
   "source": [
    "np.random.rand(2)"
   ]
  },
  {
   "cell_type": "code",
   "execution_count": null,
   "metadata": {},
   "outputs": [],
   "source": [
    "np.random.rand(5,5)"
   ]
  },
  {
   "cell_type": "markdown",
   "metadata": {},
   "source": [
    "### randn\n",
    "\n",
    "Return a sample (or samples) from the \"standard normal\" distribution. Unlike rand which is uniform:"
   ]
  },
  {
   "cell_type": "code",
   "execution_count": null,
   "metadata": {},
   "outputs": [],
   "source": [
    "np.random.randn(2)"
   ]
  },
  {
   "cell_type": "code",
   "execution_count": null,
   "metadata": {},
   "outputs": [],
   "source": [
    "np.random.randn(5,5)"
   ]
  },
  {
   "cell_type": "markdown",
   "metadata": {},
   "source": [
    "### randint\n",
    "NumPy provides built-in methods to generate random integers within a specified range. The randint() function from the np.random module is commonly used for this purpose:"
   ]
  },
  {
   "cell_type": "code",
   "execution_count": null,
   "metadata": {},
   "outputs": [],
   "source": [
    "np.random.randint(1,100)"
   ]
  },
  {
   "cell_type": "code",
   "execution_count": null,
   "metadata": {},
   "outputs": [],
   "source": [
    "np.random.randint(1,100,10)"
   ]
  },
  {
   "cell_type": "markdown",
   "metadata": {},
   "source": [
    "## Array Attributes and Methods\n",
    "\n",
    "NumPy arrays come with a variety of built-in attributes and methods that allow you to inspect and manipulate data efficiently.\n",
    "\n",
    "Let’s look at an example array:"
   ]
  },
  {
   "cell_type": "code",
   "execution_count": null,
   "metadata": {},
   "outputs": [],
   "source": [
    "arr = np.arange(25)\n",
    "ranarr = np.random.randint(0,50,10)"
   ]
  },
  {
   "cell_type": "code",
   "execution_count": null,
   "metadata": {},
   "outputs": [],
   "source": [
    "arr"
   ]
  },
  {
   "cell_type": "code",
   "execution_count": null,
   "metadata": {},
   "outputs": [],
   "source": [
    "ranarr"
   ]
  },
  {
   "cell_type": "markdown",
   "metadata": {},
   "source": [
    "\n",
    "With this array, you can explore its:\n",
    "\n",
    "- Shape using .shape\n",
    "\n",
    "- Number of dimensions using .ndim\n",
    "\n",
    "- Data type using .dtype\n",
    "\n",
    "- Size (number of elements) using .size"
   ]
  },
  {
   "cell_type": "code",
   "execution_count": null,
   "metadata": {},
   "outputs": [],
   "source": [
    "print('Shape:',ranarr.shape)\n",
    "print(\"Number of dimensions:\",ranarr.ndim)     \n",
    "print(\"Data type:\",ranarr.dtype)    \n",
    "print(\"Size:\",ranarr.size)"
   ]
  },
  {
   "cell_type": "markdown",
   "metadata": {},
   "source": [
    "**Why it matters: These properties are critical when reshaping or combining arrays, especially in data preprocessing and machine learning pipelines.**"
   ]
  },
  {
   "cell_type": "markdown",
   "metadata": {},
   "source": [
    "## Reshaping Arrays with .reshape()\n",
    "The reshape() method lets you give an array a new shape without changing its data."
   ]
  },
  {
   "cell_type": "code",
   "execution_count": null,
   "metadata": {},
   "outputs": [],
   "source": [
    "arr.reshape(5,5)"
   ]
  },
  {
   "cell_type": "markdown",
   "metadata": {},
   "source": [
    "**Pro Tip: Always ensure the number of elements remains the same. For example, 25 elements can only be reshaped into dimensions like (5, 5), (1, 25), (25, 1), etc.**"
   ]
  },
  {
   "cell_type": "markdown",
   "metadata": {},
   "source": [
    "### Finding Extremes: Max, Min, and Their Indices\n",
    "\n",
    "NumPy provides easy methods to retrieve the maximum and minimum values in an array, as well as the positions (indices) where they occur."
   ]
  },
  {
   "cell_type": "code",
   "execution_count": null,
   "metadata": {},
   "outputs": [],
   "source": [
    "ranarr"
   ]
  },
  {
   "cell_type": "code",
   "execution_count": null,
   "metadata": {},
   "outputs": [],
   "source": [
    "ranarr.max()"
   ]
  },
  {
   "cell_type": "code",
   "execution_count": null,
   "metadata": {},
   "outputs": [],
   "source": [
    "ranarr.argmax()"
   ]
  },
  {
   "cell_type": "code",
   "execution_count": null,
   "metadata": {},
   "outputs": [],
   "source": [
    "ranarr.min()"
   ]
  },
  {
   "cell_type": "code",
   "execution_count": null,
   "metadata": {},
   "outputs": [],
   "source": [
    "ranarr.argmin()"
   ]
  },
  {
   "cell_type": "markdown",
   "metadata": {},
   "source": [
    "## Summary Table\n",
    "\n",
    "| Method         | Description                                      | Example              |\n",
    "|----------------|--------------------------------------------------|----------------------|\n",
    "| `.reshape()`   | Change the shape of the array                    | `arr.reshape(5, 5)`  |\n",
    "| `.max()`       | Returns the maximum value in the array           | `ranarr.max()`       |\n",
    "| `.min()`       | Returns the minimum value                        | `ranarr.min()`       |\n",
    "| `.argmax()`    | Index of the maximum value                       | `ranarr.argmax()`    |\n",
    "| `.argmin()`    | Index of the minimum value                       | `ranarr.argmin()`    |\n"
   ]
  },
  {
   "cell_type": "code",
   "execution_count": null,
   "metadata": {},
   "outputs": [],
   "source": []
  }
 ],
 "metadata": {
  "kernelspec": {
   "display_name": "Python [conda env:base] *",
   "language": "python",
   "name": "conda-base-py"
  },
  "language_info": {
   "codemirror_mode": {
    "name": "ipython",
    "version": 3
   },
   "file_extension": ".py",
   "mimetype": "text/x-python",
   "name": "python",
   "nbconvert_exporter": "python",
   "pygments_lexer": "ipython3",
   "version": "3.12.7"
  }
 },
 "nbformat": 4,
 "nbformat_minor": 4
}
