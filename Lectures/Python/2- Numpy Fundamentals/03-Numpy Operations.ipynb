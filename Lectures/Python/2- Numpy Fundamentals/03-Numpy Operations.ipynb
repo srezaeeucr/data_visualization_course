{
 "cells": [
  {
   "cell_type": "markdown",
   "metadata": {
    "collapsed": true,
    "jupyter": {
     "outputs_hidden": true
    }
   },
   "source": [
    "# NumPy Operations\n",
    "**NumPy makes mathematical operations on arrays intuitive, fast, and memory-efficient. In this section, we'll explore how NumPy supports arithmetic operations, broadcasting, and universal functions (ufuncs) applied element-wise to arrays.**\n",
    "\n"
   ]
  },
  {
   "cell_type": "markdown",
   "metadata": {},
   "source": [
    "## Element-wise Arithmetic Operations\n",
    "\n",
    "NumPy arrays support element-wise operations, meaning you can apply arithmetic between arrays or between an array and a scalar seamlessly.\n",
    "\n",
    "Let’s start with an example:"
   ]
  },
  {
   "cell_type": "code",
   "execution_count": 6,
   "metadata": {},
   "outputs": [
    {
     "name": "stdout",
     "output_type": "stream",
     "text": [
      "Original array: [1 2 3 4 5]\n",
      "Addition with itself: [ 2  4  6  8 10]\n",
      "Multiplication with itself: [ 1  4  9 16 25]\n",
      "Subtraction: [0 0 0 0 0]\n",
      "Division: [1. 1. 1. 1. 1.]\n",
      "Cubic power: [  1   8  27  64 125]\n"
     ]
    }
   ],
   "source": [
    "import numpy as np\n",
    "\n",
    "arr = np.arange(1, 6)\n",
    "print(\"Original array:\", arr)\n",
    "\n",
    "print(\"Addition with itself:\", arr + arr)\n",
    "print(\"Multiplication with itself:\", arr * arr)\n",
    "print(\"Subtraction:\", arr - arr)\n",
    "print(\"Division:\", arr / arr)\n",
    "print(\"Cubic power:\", arr ** 3)"
   ]
  },
  {
   "cell_type": "markdown",
   "metadata": {},
   "source": [
    "## What if we include zero?\n",
    "**This will raise a RuntimeWarning (not an error), and replace division by zero with:**\n",
    "\n",
    "nan for 0/0\n",
    "\n",
    "inf for 1/0"
   ]
  },
  {
   "cell_type": "code",
   "execution_count": 10,
   "metadata": {
    "collapsed": false,
    "jupyter": {
     "outputs_hidden": false
    }
   },
   "outputs": [
    {
     "name": "stdout",
     "output_type": "stream",
     "text": [
      "1 divided by array with zero: [       inf 1.         0.5        0.33333333 0.25      ]\n"
     ]
    },
    {
     "name": "stderr",
     "output_type": "stream",
     "text": [
      "/var/folders/3g/v_twqpnd3kg222hr33lj_2ww0000gn/T/ipykernel_30790/2101456893.py:2: RuntimeWarning: divide by zero encountered in divide\n",
      "  print(\"1 divided by array with zero:\", 1 / arr_with_zero)\n"
     ]
    }
   ],
   "source": [
    "arr_with_zero = np.arange(0, 5)\n",
    "print(\"1 divided by array with zero:\", 1 / arr_with_zero)"
   ]
  },
  {
   "cell_type": "markdown",
   "metadata": {},
   "source": [
    "## Universal Array Functions\n",
    "\n",
    "\n",
    "NumPy provides a variety of universal functions [universal array functions](http://docs.scipy.org/doc/numpy/reference/ufuncs.html), or ufuncs, which are optimized C-based functions applied element-wise across arrays. These include math operations like exponential, logarithmic, and trigonometric functions.\n"
   ]
  },
  {
   "cell_type": "code",
   "execution_count": 15,
   "metadata": {
    "collapsed": false,
    "jupyter": {
     "outputs_hidden": false
    }
   },
   "outputs": [
    {
     "name": "stdout",
     "output_type": "stream",
     "text": [
      "Square root: [1.         1.41421356 1.73205081 2.         2.23606798]\n",
      "Exponential (e^x): [  2.71828183   7.3890561   20.08553692  54.59815003 148.4131591 ]\n",
      "Natural log: [0.         0.69314718 1.09861229 1.38629436 1.60943791]\n",
      "Sine values: [ 0.84147098  0.90929743  0.14112001 -0.7568025  -0.95892427]\n",
      "Max value: 5\n"
     ]
    }
   ],
   "source": [
    "arr = np.arange(1, 6)  # Avoid zero to prevent log(0) issues\n",
    "\n",
    "print(\"Square root:\", np.sqrt(arr))\n",
    "print(\"Exponential (e^x):\", np.exp(arr))\n",
    "print(\"Natural log:\", np.log(arr))\n",
    "print(\"Sine values:\", np.sin(arr))\n",
    "print(\"Max value:\", np.max(arr))  # Or arr.max()\n"
   ]
  },
  {
   "cell_type": "markdown",
   "metadata": {},
   "source": [
    "# Dot Product Explanation\n",
    "The dot product is a fundamental operation in linear algebra. It takes two vectors (1D arrays) and returns a single number."
   ]
  },
  {
   "cell_type": "code",
   "execution_count": 26,
   "metadata": {},
   "outputs": [
    {
     "data": {
      "text/plain": [
       "32"
      ]
     },
     "execution_count": 26,
     "metadata": {},
     "output_type": "execute_result"
    }
   ],
   "source": [
    "a = np.array([1, 2, 3])\n",
    "b = np.array([4, 5, 6])\n",
    "np.dot(a, b)  \n"
   ]
  },
  {
   "cell_type": "markdown",
   "metadata": {},
   "source": [
    "## How it works:\n",
    "(1 * 4) + (2 * 5) + (3 * 6) = 4 + 10 + 18 = 32\n",
    "\n",
    "**Use cases: cosine similarity, projections, machine learning computations.**\n",
    "\n"
   ]
  },
  {
   "cell_type": "markdown",
   "metadata": {},
   "source": [
    "## Matrix Multiplication Explanation\n",
    "The np.matmul() function is used to multiply two 2D arrays (matrices) in the standard matrix multiplication sense.\n",
    "\n",
    "Example:"
   ]
  },
  {
   "cell_type": "code",
   "execution_count": 34,
   "metadata": {},
   "outputs": [
    {
     "data": {
      "text/plain": [
       "array([[ 4,  4],\n",
       "       [10,  8]])"
      ]
     },
     "execution_count": 34,
     "metadata": {},
     "output_type": "execute_result"
    }
   ],
   "source": [
    "A = np.array([[1, 2],\n",
    "              [3, 4]])\n",
    "\n",
    "B = np.array([[2, 0],\n",
    "              [1, 2]])\n",
    "\n",
    "np.matmul(A, B)\n"
   ]
  },
  {
   "cell_type": "markdown",
   "metadata": {},
   "source": [
    "**Use cases: transformations, systems of equations, neural networks.**"
   ]
  },
  {
   "cell_type": "markdown",
   "metadata": {},
   "source": [
    "# Summary Table\n",
    "\n",
    "| Operation             | Code Example                | Description                                 |\n",
    "|----------------------|-----------------------------|---------------------------------------------|\n",
    "| Addition              | `arr + arr`                 | Adds corresponding elements                 |\n",
    "| Subtraction           | `arr - arr`                 | Subtracts one array from another            |\n",
    "| Multiplication        | `arr * arr`                 | Multiplies each element                     |\n",
    "| Division              | `arr / arr`                 | Divides each element                        |\n",
    "| Power (e.g., cube)    | `arr ** 3`                  | Raises each element to a power              |\n",
    "| Scalar Division       | `1 / arr`                   | Divides 1 by each element (watch for 0)     |\n",
    "| Square Root           | `np.sqrt(arr)`              | Square root of each element                 |\n",
    "| Exponential (e^x)     | `np.exp(arr)`               | e raised to each element                    |\n",
    "| Natural Log           | `np.log(arr)`               | Logarithm (base e) of each element          |\n",
    "| Sine Function         | `np.sin(arr)`               | Sine of each element (in radians)           |\n",
    "| Maximum               | `np.max(arr)`               | Returns the largest element                 |\n",
    "| Conditional Logic     | `np.where(arr > 3, 'High', 'Low')` | Applies vectorized if-else          |\n",
    "| Dot Product           | `np.dot(a, b)`              | Inner product of two 1D arrays (vectors)    |\n",
    "| Matrix Multiplication | `np.matmul(m1, m2)`         | Matrix-to-matrix multiplication             |\n",
    "| Mean                  | `np.mean(arr)`              | Average of all elements                     |\n",
    "| Standard Deviation    | `np.std(arr)`               | Measure of data spread                      |\n",
    "| Variance              | `np.var(arr)`               | Spread squared (average of squared dev.)    |\n",
    "| Broadcasting          | `arr + 10`                  | Adds 10 to each element of the array        |\n"
   ]
  },
  {
   "cell_type": "code",
   "execution_count": null,
   "metadata": {},
   "outputs": [],
   "source": []
  }
 ],
 "metadata": {
  "kernelspec": {
   "display_name": "Python [conda env:base] *",
   "language": "python",
   "name": "conda-base-py"
  },
  "language_info": {
   "codemirror_mode": {
    "name": "ipython",
    "version": 3
   },
   "file_extension": ".py",
   "mimetype": "text/x-python",
   "name": "python",
   "nbconvert_exporter": "python",
   "pygments_lexer": "ipython3",
   "version": "3.12.7"
  }
 },
 "nbformat": 4,
 "nbformat_minor": 4
}
